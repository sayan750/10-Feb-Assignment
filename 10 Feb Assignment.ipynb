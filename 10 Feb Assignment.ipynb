{
 "cells": [
  {
   "cell_type": "markdown",
   "id": "d38dff0b",
   "metadata": {},
   "source": [
    "### Q1.\n",
    "\n",
    "**Open function is used to open a file.**\n",
    "\n",
    "**There are six modes of opening a file. These are \"r\", \"w\", \"a\", \"x\", \"t\", \"b\".**\n",
    "\n",
    "**Each modes are explaining below:-**\n",
    "\n",
    "**\"r\" - Opens the file for reading only. Raises a FileNotFoundError exception if the file doesn't exist.**\n",
    "\n",
    "**\"w\" - Write mode. Opens the file for writing only. If the file doesn't exist, it creates a new file.**\n",
    "\n",
    "**\"a\" - Append mode. Opens the file for writing. If the file doesn't exist, it creates a new file.**\n",
    "\n",
    "**\"x\" - Exclusive creation mode. Creates a new file, but raises a FileExistsError exception if the file already exists.**\n",
    "\n",
    "**\"t\" - Text mode (default). Opens the file in text mode, which is used for text files.**\n",
    "\n",
    "**\"b\" - Binary mode. Opens the file in binary mode, which is used for non-text files like images and audio files.**"
   ]
  },
  {
   "cell_type": "markdown",
   "id": "626efcd5",
   "metadata": {},
   "source": [
    "### Q2.\n",
    "\n",
    "**The close() function is used to close a file after it has been opened with the open() function in Python. When a file is opened, it creates a connection between the program and the file on the computer's file system, and this connection needs to be explicitly closed when the program is finished working with the file.**\n",
    "\n",
    "**It is important to close a file after it has been opened because leaving files open can lead to several issues such as:**\n",
    "\n",
    "**1. Resource leakage: If a program opens a file but doesn't close it properly, the operating system may not be able to reclaim the resources allocated to the file, leading to resource leakage.**\n",
    "\n",
    "**2. Inconsistent data: If a program writes data to a file but doesn't close it properly, the data may not be written to the file until the file is closed. This can lead to inconsistent data if the program terminates unexpectedly before closing the file.**\n",
    "\n",
    "**3. File corruption: If a program is writing data to a file and the file is not closed properly, the data may not be written correctly to the file. This can lead to file corruption, which can cause the file to become unreadable or even delete data.**"
   ]
  },
  {
   "cell_type": "markdown",
   "id": "fa6d467b",
   "metadata": {},
   "source": [
    "### Q3."
   ]
  },
  {
   "cell_type": "code",
   "execution_count": 5,
   "id": "bc5bf53d",
   "metadata": {},
   "outputs": [
    {
     "name": "stdout",
     "output_type": "stream",
     "text": [
      "I want to become a Data Scientist\n"
     ]
    }
   ],
   "source": [
    "file = open(\"my_file.txt\", \"w\")\n",
    "file.write(\"I want to become a Data Scientist\")\n",
    "file.close\n",
    "file = open(\"my_file.txt\", \"r\")\n",
    "content = file.read()\n",
    "print(content)\n",
    "file.close()"
   ]
  },
  {
   "cell_type": "markdown",
   "id": "bfaff127",
   "metadata": {},
   "source": [
    "### Q4."
   ]
  },
  {
   "cell_type": "markdown",
   "id": "f5de6a30",
   "metadata": {},
   "source": [
    "**read() is a method in Python that allows you to read the contents of a file. It reads the entire contents of a file into a single string.**"
   ]
  },
  {
   "cell_type": "code",
   "execution_count": 8,
   "id": "e776490a",
   "metadata": {},
   "outputs": [
    {
     "name": "stdout",
     "output_type": "stream",
     "text": [
      "My name is SAYAN\n"
     ]
    }
   ],
   "source": [
    "file = open(\"example.txt\", \"w\")\n",
    "\n",
    "file.write(\"My name is SAYAN\")\n",
    "\n",
    "file.close()\n",
    "\n",
    "file = open('example.txt', 'r')\n",
    "\n",
    "contents = file.read()\n",
    "\n",
    "print(contents)\n",
    "\n",
    "file.close()"
   ]
  },
  {
   "cell_type": "markdown",
   "id": "2dac2c3a",
   "metadata": {},
   "source": [
    "**readline() is a method in Python that reads a single line from a file. Each time it is called, it reads the next line in the file.**"
   ]
  },
  {
   "cell_type": "code",
   "execution_count": 11,
   "id": "214594ec",
   "metadata": {},
   "outputs": [
    {
     "name": "stdout",
     "output_type": "stream",
     "text": [
      "My n\n"
     ]
    }
   ],
   "source": [
    "file = open(\"example.txt\", \"w\")\n",
    "\n",
    "file.write(\"My name is SAYAN\")\n",
    "\n",
    "file.close()\n",
    "\n",
    "file = open('example.txt', 'r')\n",
    "\n",
    "contents = file.readline(4)\n",
    "\n",
    "print(contents)\n",
    "\n",
    "file.close()"
   ]
  },
  {
   "cell_type": "markdown",
   "id": "d81163de",
   "metadata": {},
   "source": [
    "**readlines() is a method in Python that reads all the lines of a file and returns them as a list of strings. Each string in the list corresponds to a single line in the file.**"
   ]
  },
  {
   "cell_type": "code",
   "execution_count": 15,
   "id": "59e9bf5b",
   "metadata": {},
   "outputs": [
    {
     "name": "stdout",
     "output_type": "stream",
     "text": [
      "['My name is SAYAN']\n"
     ]
    }
   ],
   "source": [
    "file = open(\"example.txt\", \"w\")\n",
    "\n",
    "file.write(\"My name is SAYAN\")\n",
    "\n",
    "file.close()\n",
    "\n",
    "file = open('example.txt', 'r')\n",
    "\n",
    "contents = file.readlines()\n",
    "\n",
    "print(contents)\n",
    "\n",
    "file.close()"
   ]
  },
  {
   "cell_type": "markdown",
   "id": "87881250",
   "metadata": {},
   "source": [
    "### Q5.\n",
    "\n",
    "**The with statement in Python is used to ensure that a block of code is executed in a context controlled by a context manager. A context manager is an object that defines the methods __enter__() and __exit__() and can be used with the with statement.**\n",
    "\n",
    "**The main advantage of using the with statement with open() is that it guarantees that the file will be properly closed even if an error occurs while you are working with the file. This is because the __exit__() method of the context manager is always called, even if an exception is raised in the __enter__() method. This helps prevent resource leaks and ensures that your code behaves correctly in all situations.**"
   ]
  },
  {
   "cell_type": "markdown",
   "id": "773d67ef",
   "metadata": {},
   "source": [
    "### Q6."
   ]
  },
  {
   "cell_type": "markdown",
   "id": "bf972140",
   "metadata": {},
   "source": [
    "**The write() function is used to write a string of data to a file. It takes a single string argument, which represents the data to be written to the file.**"
   ]
  },
  {
   "cell_type": "code",
   "execution_count": 18,
   "id": "9c92ab39",
   "metadata": {},
   "outputs": [
    {
     "name": "stdout",
     "output_type": "stream",
     "text": [
      "My name is SAYAN\n"
     ]
    }
   ],
   "source": [
    "file = open(\"example.txt\", \"w\")\n",
    "\n",
    "file.write(\"My name is SAYAN\")\n",
    "\n",
    "file.close()\n",
    "\n",
    "file = open('example.txt', 'r')\n",
    "\n",
    "contents = file.read()\n",
    "\n",
    "print(contents)\n",
    "\n",
    "file.close()"
   ]
  },
  {
   "cell_type": "markdown",
   "id": "556cd3ba",
   "metadata": {},
   "source": [
    "**The writelines() function is used to write a list of strings to a file. Each string in the list is written to the file as a separate line.**"
   ]
  },
  {
   "cell_type": "code",
   "execution_count": 20,
   "id": "73b2bb5d",
   "metadata": {},
   "outputs": [
    {
     "name": "stdout",
     "output_type": "stream",
     "text": [
      "My name is SAYAN Ghosh\n"
     ]
    }
   ],
   "source": [
    "file = open(\"example.txt\", \"w\")\n",
    "\n",
    "file.writelines(\"My name is SAYAN Ghosh\")\n",
    "\n",
    "file.close()\n",
    "\n",
    "file = open('example.txt', 'r')\n",
    "\n",
    "contents = file.read()\n",
    "\n",
    "print(contents)\n",
    "\n",
    "file.close()"
   ]
  },
  {
   "cell_type": "code",
   "execution_count": null,
   "id": "f9fd66a0",
   "metadata": {},
   "outputs": [],
   "source": []
  },
  {
   "cell_type": "code",
   "execution_count": null,
   "id": "da8ff551",
   "metadata": {},
   "outputs": [],
   "source": []
  }
 ],
 "metadata": {
  "kernelspec": {
   "display_name": "Python 3 (ipykernel)",
   "language": "python",
   "name": "python3"
  },
  "language_info": {
   "codemirror_mode": {
    "name": "ipython",
    "version": 3
   },
   "file_extension": ".py",
   "mimetype": "text/x-python",
   "name": "python",
   "nbconvert_exporter": "python",
   "pygments_lexer": "ipython3",
   "version": "3.9.12"
  }
 },
 "nbformat": 4,
 "nbformat_minor": 5
}
